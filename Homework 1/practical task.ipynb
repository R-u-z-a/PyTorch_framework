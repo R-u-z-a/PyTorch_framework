{
 "cells": [
  {
   "cell_type": "code",
   "execution_count": 15,
   "metadata": {},
   "outputs": [],
   "source": [
    "import torch"
   ]
  },
  {
   "cell_type": "code",
   "execution_count": 19,
   "metadata": {},
   "outputs": [
    {
     "name": "stdout",
     "output_type": "stream",
     "text": [
      "tensor([])\n"
     ]
    }
   ],
   "source": [
    "# Создайте случайный FloatTensor размера 3x4x5\n",
    "\n",
    "torch.FloatTensor()\n",
    "a = torch.Tensor()\n",
    "print(a)\n",
    "\n",
    "# Создал пустой тензор и посмотред работает ли торч."
   ]
  },
  {
   "cell_type": "code",
   "execution_count": 34,
   "metadata": {},
   "outputs": [
    {
     "name": "stdout",
     "output_type": "stream",
     "text": [
      "tensor([[[ 0.7406,  0.1573, -1.2021,  0.5245, -0.5503],\n",
      "         [-0.1321, -0.8306,  0.6281, -0.0743,  0.1800],\n",
      "         [ 0.0080, -0.1306, -0.7560, -0.0096, -0.8766],\n",
      "         [-1.5292, -0.0454,  0.6456, -1.2675, -0.0064]],\n",
      "\n",
      "        [[ 2.1672, -0.8868,  0.4271, -1.5739,  0.9437],\n",
      "         [-1.1918, -1.3313,  0.0928,  0.2759,  1.1963],\n",
      "         [-1.0177,  2.0010, -0.9498,  0.7940, -0.2483],\n",
      "         [-0.1429,  0.7537, -3.1043, -0.2495,  0.1051]],\n",
      "\n",
      "        [[ 2.0389, -0.4655, -1.8727, -0.2467, -0.8174],\n",
      "         [ 0.2732, -0.0094, -0.1650,  1.1498,  0.6477],\n",
      "         [ 1.0789, -1.9159,  0.2071,  0.3405,  1.0108],\n",
      "         [ 0.2664,  0.3342,  0.5341,  0.8369, -1.0792]]])\n"
     ]
    }
   ],
   "source": [
    "# На сколько я понял то создать случайный Float можно так: \n",
    "\n",
    "a = torch.randn(3, 4, 5).type(torch.FloatTensor)\n",
    "\n",
    "print(a)\n",
    "\n",
    "# Прошу не судить строго"
   ]
  },
  {
   "cell_type": "code",
   "execution_count": 35,
   "metadata": {},
   "outputs": [
    {
     "name": "stdout",
     "output_type": "stream",
     "text": [
      "a: tensor([[[ 0.7406,  0.1573, -1.2021,  0.5245, -0.5503],\n",
      "         [-0.1321, -0.8306,  0.6281, -0.0743,  0.1800],\n",
      "         [ 0.0080, -0.1306, -0.7560, -0.0096, -0.8766],\n",
      "         [-1.5292, -0.0454,  0.6456, -1.2675, -0.0064]],\n",
      "\n",
      "        [[ 2.1672, -0.8868,  0.4271, -1.5739,  0.9437],\n",
      "         [-1.1918, -1.3313,  0.0928,  0.2759,  1.1963],\n",
      "         [-1.0177,  2.0010, -0.9498,  0.7940, -0.2483],\n",
      "         [-0.1429,  0.7537, -3.1043, -0.2495,  0.1051]],\n",
      "\n",
      "        [[ 2.0389, -0.4655, -1.8727, -0.2467, -0.8174],\n",
      "         [ 0.2732, -0.0094, -0.1650,  1.1498,  0.6477],\n",
      "         [ 1.0789, -1.9159,  0.2071,  0.3405,  1.0108],\n",
      "         [ 0.2664,  0.3342,  0.5341,  0.8369, -1.0792]]])\n",
      "shape: torch.Size([3, 4, 5])\n"
     ]
    }
   ],
   "source": [
    "# Выведите его форму (shape)\n",
    "# Не знаю что у меня получилось но что получилось то и получилось ))\n",
    "\n",
    "print(f\"a: {a}\\nshape: {a.size()}\")\n",
    "\n",
    "# В итоге у нас получился shape ([3, 4, 5])"
   ]
  },
  {
   "cell_type": "code",
   "execution_count": 37,
   "metadata": {},
   "outputs": [
    {
     "name": "stdout",
     "output_type": "stream",
     "text": [
      "tensor([ 0.7406,  0.1573, -1.2021,  0.5245, -0.5503, -0.1321, -0.8306,  0.6281,\n",
      "        -0.0743,  0.1800,  0.0080, -0.1306, -0.7560, -0.0096, -0.8766, -1.5292,\n",
      "        -0.0454,  0.6456, -1.2675, -0.0064,  2.1672, -0.8868,  0.4271, -1.5739,\n",
      "         0.9437, -1.1918, -1.3313,  0.0928,  0.2759,  1.1963, -1.0177,  2.0010,\n",
      "        -0.9498,  0.7940, -0.2483, -0.1429,  0.7537, -3.1043, -0.2495,  0.1051,\n",
      "         2.0389, -0.4655, -1.8727, -0.2467, -0.8174,  0.2732, -0.0094, -0.1650,\n",
      "         1.1498,  0.6477,  1.0789, -1.9159,  0.2071,  0.3405,  1.0108,  0.2664,\n",
      "         0.3342,  0.5341,  0.8369, -1.0792])\n"
     ]
    }
   ],
   "source": [
    "# Приведите его к форме 6 X 10\n",
    "\n",
    "a = torch.FloatTensor(6 * 10)\n",
    "print(a)"
   ]
  },
  {
   "cell_type": "code",
   "execution_count": 40,
   "metadata": {},
   "outputs": [
    {
     "name": "stdout",
     "output_type": "stream",
     "text": [
      "Unexpected exception formatting exception. Falling back to standard exception\n"
     ]
    },
    {
     "name": "stderr",
     "output_type": "stream",
     "text": [
      "Traceback (most recent call last):\n",
      "  File \"c:\\Users\\azhur\\AppData\\Local\\Programs\\Python\\Python310\\lib\\site-packages\\IPython\\core\\interactiveshell.py\", line 3398, in run_code\n",
      "    exec(code_obj, self.user_global_ns, self.user_ns)\n",
      "  File \"C:\\Users\\azhur\\AppData\\Local\\Temp\\ipykernel_19184\\3873683434.py\", line 4, in <cell line: 4>\n",
      "    print(f\"a + b: {a + b},\\n a * b: {a * b}\")\n",
      "RuntimeError: The size of tensor a (60) must match the size of tensor b (3) at non-singleton dimension 2\n",
      "\n",
      "During handling of the above exception, another exception occurred:\n",
      "\n",
      "Traceback (most recent call last):\n",
      "  File \"c:\\Users\\azhur\\AppData\\Local\\Programs\\Python\\Python310\\lib\\site-packages\\IPython\\core\\interactiveshell.py\", line 1993, in showtraceback\n",
      "    stb = self.InteractiveTB.structured_traceback(\n",
      "  File \"c:\\Users\\azhur\\AppData\\Local\\Programs\\Python\\Python310\\lib\\site-packages\\IPython\\core\\ultratb.py\", line 1118, in structured_traceback\n",
      "    return FormattedTB.structured_traceback(\n",
      "  File \"c:\\Users\\azhur\\AppData\\Local\\Programs\\Python\\Python310\\lib\\site-packages\\IPython\\core\\ultratb.py\", line 1012, in structured_traceback\n",
      "    return VerboseTB.structured_traceback(\n",
      "  File \"c:\\Users\\azhur\\AppData\\Local\\Programs\\Python\\Python310\\lib\\site-packages\\IPython\\core\\ultratb.py\", line 865, in structured_traceback\n",
      "    formatted_exception = self.format_exception_as_a_whole(etype, evalue, etb, number_of_lines_of_context,\n",
      "  File \"c:\\Users\\azhur\\AppData\\Local\\Programs\\Python\\Python310\\lib\\site-packages\\IPython\\core\\ultratb.py\", line 799, in format_exception_as_a_whole\n",
      "    self.get_records(etb, number_of_lines_of_context, tb_offset) if etb else []\n",
      "  File \"c:\\Users\\azhur\\AppData\\Local\\Programs\\Python\\Python310\\lib\\site-packages\\IPython\\core\\ultratb.py\", line 845, in get_records\n",
      "    style = stack_data.style_with_executing_node(style, \"bg:ansiyellow\")\n",
      "  File \"c:\\Users\\azhur\\AppData\\Local\\Programs\\Python\\Python310\\lib\\site-packages\\stack_data\\core.py\", line 424, in style_with_executing_node\n",
      "    class NewStyle(style):\n",
      "  File \"c:\\Users\\azhur\\AppData\\Local\\Programs\\Python\\Python310\\lib\\site-packages\\pygments\\style.py\", line 91, in __new__\n",
      "    ndef[4] = colorformat(styledef[3:])\n",
      "  File \"c:\\Users\\azhur\\AppData\\Local\\Programs\\Python\\Python310\\lib\\site-packages\\pygments\\style.py\", line 58, in colorformat\n",
      "    assert False, \"wrong color format %r\" % text\n",
      "AssertionError: wrong color format 'ansiyellow'\n"
     ]
    }
   ],
   "source": [
    "# Умножьте его на вектор [1, 4, 2, 2, 1] поэлементно\n",
    "# Я не смог найти прикрепленную методичку к уроку и не совсем понял как это делать.\n",
    "b = torch.randn(1, 4, 3).type(torch.FloatTensor)\n",
    "print(f\"a + b: {a + b},\\n a * b: {a * b}\")"
   ]
  },
  {
   "cell_type": "code",
   "execution_count": 6,
   "metadata": {},
   "outputs": [],
   "source": [
    "# Умножьте тензор матрично на себя, чтобы результат был размерности 6x6"
   ]
  },
  {
   "cell_type": "code",
   "execution_count": 7,
   "metadata": {},
   "outputs": [],
   "source": [
    "# Посчитайте производную функции y = x**3 + z - 75t в точке (1, 0.5, 2)"
   ]
  },
  {
   "cell_type": "code",
   "execution_count": 44,
   "metadata": {},
   "outputs": [
    {
     "data": {
      "text/plain": [
       "tensor([[6.7747e+31, 6.2638e-43, 1.4013e-45, 0.0000e+00, 2.8026e-45, 0.0000e+00],\n",
       "        [0.0000e+00, 0.0000e+00, 0.0000e+00, 0.0000e+00, 0.0000e+00, 0.0000e+00],\n",
       "        [0.0000e+00, 0.0000e+00, 1.4013e-45, 0.0000e+00, 0.0000e+00, 0.0000e+00],\n",
       "        [0.0000e+00, 0.0000e+00, 0.0000e+00, 0.0000e+00, 0.0000e+00, 0.0000e+00],\n",
       "        [0.0000e+00, 0.0000e+00, 2.8026e-45, 0.0000e+00, 9.1841e-41, 1.1551e-40]])"
      ]
     },
     "execution_count": 44,
     "metadata": {},
     "output_type": "execute_result"
    }
   ],
   "source": [
    "# Создайте единичный тензор размера 5x6\n",
    "\n",
    "a = torch.Tensor(5, 6)\n",
    "a"
   ]
  },
  {
   "cell_type": "code",
   "execution_count": 9,
   "metadata": {},
   "outputs": [],
   "source": [
    "# Переведите его в формат numpy"
   ]
  },
  {
   "cell_type": "code",
   "execution_count": null,
   "metadata": {},
   "outputs": [],
   "source": [
    "# Давайте теперь пооптимизируем: возьмите функцию y = x**w1 - 2 * x**2 + 5\n",
    "# Посчитайте "
   ]
  }
 ],
 "metadata": {
  "kernelspec": {
   "display_name": "Python 3",
   "language": "python",
   "name": "python3"
  },
  "language_info": {
   "codemirror_mode": {
    "name": "ipython",
    "version": 3
   },
   "file_extension": ".py",
   "mimetype": "text/x-python",
   "name": "python",
   "nbconvert_exporter": "python",
   "pygments_lexer": "ipython3",
   "version": "3.10.2"
  },
  "vscode": {
   "interpreter": {
    "hash": "e0374bbc5b6e8830e1c7992d2b29930f5be5fce85401b20117ea791a8a6544f0"
   }
  }
 },
 "nbformat": 4,
 "nbformat_minor": 2
}
