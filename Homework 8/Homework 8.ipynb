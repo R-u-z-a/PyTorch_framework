{
 "cells": [
  {
   "cell_type": "markdown",
   "metadata": {},
   "source": [
    "# Домашнее задание № 8"
   ]
  },
  {
   "attachments": {},
   "cell_type": "markdown",
   "metadata": {},
   "source": [
    "1. Обучить генератор создавать точки, которые будут лежать на графике функции \n",
    " $$y = \\frac{sin(x)}{x} - \\frac{x}{10}$$    \n",
    "При выполнении данного задания структура GAN остается той же, но Вам нужно: \n",
    "- Сгенерировать настоящие данные    \n",
    "- Изменить архитектуру дискриминатора и генератора  \n",
    "- Построить графики"
   ]
  },
  {
   "cell_type": "code",
   "execution_count": null,
   "metadata": {},
   "outputs": [],
   "source": [
    "from torchvision import datasets\n",
    "import torch\n",
    "import torch.nn as nn\n",
    "import torch.nn.functional as F\n",
    "import torch.optim as optim\n",
    "from torchvision import datasets, transforms\n",
    "import numpy as np\n",
    "import torchvision\n",
    "import matplotlib.pyplot as plt"
   ]
  },
  {
   "cell_type": "code",
   "execution_count": null,
   "metadata": {},
   "outputs": [],
   "source": [
    "device = 'cuda' if torch.cuda.is_available() else 'cpu'\n",
    "\n",
    "transform = transforms.Compose([\n",
    "        transforms.ToTensor()\n",
    "    ])\n",
    "\n",
    "dataset = datasets.MNIST(\n",
    "    '.',\n",
    "    train=True,\n",
    "    download=True,\n",
    "    transform=transform\n",
    ")"
   ]
  },
  {
   "cell_type": "code",
   "execution_count": null,
   "metadata": {},
   "outputs": [],
   "source": [
    "img_1, label_1 = dataset[10]\n",
    "img_2, label_2 = dataset[6]\n",
    "\n",
    "print(f'Расстояние между классами по пикселям {label_1} и {label_2}')\n",
    "print(torch.mean(torch.square(img_1 - img_2)).item())\n",
    "\n",
    "grid = torchvision.utils.make_grid([img_1, img_2])\n",
    "plt.imshow(grid.permute(1, 2, 0));"
   ]
  },
  {
   "cell_type": "code",
   "execution_count": null,
   "metadata": {},
   "outputs": [],
   "source": [
    "img_3, label_3 = dataset[30]\n",
    "\n",
    "print(f'Расстояние между классами по пикселям {label_1} и {label_3}')\n",
    "print(torch.mean(torch.square(img_1 - img_3)).item())\n",
    "\n",
    "grid = torchvision.utils.make_grid([img_1, img_3])\n",
    "plt.imshow(grid.permute(1, 2, 0));"
   ]
  },
  {
   "cell_type": "code",
   "execution_count": null,
   "metadata": {},
   "outputs": [],
   "source": [
    "class TinyModel(nn.Module):\n",
    "    def __init__(self, num_classes):\n",
    "        super().__init__()\n",
    "        self.conv1 = nn.Conv2d(in_channels=1, \n",
    "                               out_channels=4,\n",
    "                               kernel_size=3)\n",
    "        self.pool = nn.MaxPool2d(kernel_size=2)\n",
    "        self.relu = nn.ReLU()\n",
    "        self.conv2 = nn.Conv2d(in_channels=4, \n",
    "                               out_channels=8,\n",
    "                               kernel_size=3)\n",
    "        self.fc1 = nn.Linear(in_features=200,\n",
    "                             out_features=128)\n",
    "        self.fc2 = nn.Linear(in_features=128,\n",
    "                             out_features=num_classes)\n",
    "        \n",
    "    def forward(self, x):\n",
    "        x = self.conv1(x)\n",
    "        x = self.pool(x)\n",
    "        x = self.relu(x)\n",
    "        x = self.conv2(x)\n",
    "        x = self.pool(x)\n",
    "        x = self.relu(x)\n",
    "        x = x.reshape((-1, 200))\n",
    "        emb = self.fc1(x)\n",
    "        x = self.fc2(emb)\n",
    "        return x, emb"
   ]
  },
  {
   "cell_type": "code",
   "execution_count": null,
   "metadata": {},
   "outputs": [],
   "source": [
    "def train(model, dataloader):\n",
    "    criterion = nn.CrossEntropyLoss()\n",
    "    optimizer = torch.optim.Adam(model.parameters(), lr=0.001)\n",
    "\n",
    "    model.to(device)\n",
    "    for step, (imgs, labels) in enumerate(dataloader):\n",
    "        imgs, labels = imgs.to(device), labels.to(device)\n",
    "\n",
    "        pred, _ = model(imgs)\n",
    "\n",
    "        loss = criterion(pred, labels)\n",
    "        optimizer.zero_grad()\n",
    "        loss.backward()\n",
    "        optimizer.step()\n",
    "\n",
    "        if step % 100 == 0:\n",
    "            print(f'Loss is {loss.item()}')\n",
    "\n",
    "    return model"
   ]
  },
  {
   "cell_type": "code",
   "execution_count": null,
   "metadata": {},
   "outputs": [],
   "source": [
    "dataloader = torch.utils.data.DataLoader(\n",
    "    dataset,\n",
    "    batch_size=256,\n",
    "    shuffle=True\n",
    ")"
   ]
  },
  {
   "cell_type": "code",
   "execution_count": null,
   "metadata": {},
   "outputs": [],
   "source": [
    "model = TinyModel(10)\n",
    "model = train(model, dataloader)"
   ]
  },
  {
   "cell_type": "code",
   "execution_count": null,
   "metadata": {},
   "outputs": [],
   "source": [
    "model.to('cpu')\n",
    "_, emb_1 = model(img_1[None])\n",
    "_, emb_2 = model(img_2[None])\n",
    "_, emb_3 = model(img_3[None])"
   ]
  },
  {
   "cell_type": "code",
   "execution_count": null,
   "metadata": {},
   "outputs": [],
   "source": [
    "print(f'Расстояние между классами {label_1} и {label_2}')\n",
    "print(torch.mean(torch.square(emb_1 - emb_2)).item())\n",
    "\n",
    "print(f'Расстояние между классами {label_1} и {label_3}')\n",
    "print(torch.mean(torch.square(emb_1 - emb_3)).item())"
   ]
  },
  {
   "cell_type": "code",
   "execution_count": null,
   "metadata": {},
   "outputs": [],
   "source": [
    "anchor = torch.randn(1, 3, requires_grad=True)\n",
    "positive = torch.randn(1, 3, requires_grad=True)\n",
    "negative = torch.randn(1, 3, requires_grad=True)\n",
    "\n",
    "triplet_margin_loss = nn.TripletMarginLoss(margin=1.0)\n",
    "output = triplet_margin_loss(anchor, positive, negative)\n",
    "\n",
    "print('anchor: ', anchor)\n",
    "print('positive: ', positive)\n",
    "print('negative: ', negative)\n",
    "print('output: ', output)"
   ]
  },
  {
   "cell_type": "code",
   "execution_count": null,
   "metadata": {},
   "outputs": [],
   "source": [
    "torch.mean(torch.square(anchor - positive))"
   ]
  },
  {
   "cell_type": "code",
   "execution_count": null,
   "metadata": {},
   "outputs": [],
   "source": [
    "torch.mean(torch.square(anchor - negative))"
   ]
  },
  {
   "cell_type": "code",
   "execution_count": null,
   "metadata": {},
   "outputs": [],
   "source": []
  }
 ],
 "metadata": {
  "kernelspec": {
   "display_name": "Python 3",
   "language": "python",
   "name": "python3"
  },
  "language_info": {
   "name": "python",
   "version": "3.10.2"
  },
  "orig_nbformat": 4
 },
 "nbformat": 4,
 "nbformat_minor": 2
}
