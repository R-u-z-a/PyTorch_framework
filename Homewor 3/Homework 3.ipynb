{
 "cells": [
  {
   "cell_type": "code",
   "execution_count": 1,
   "metadata": {},
   "outputs": [],
   "source": [
    "import numpy as np\n",
    "import pandas as pd\n",
    "import os\n",
    "import matplotlib.pyplot as plt"
   ]
  },
  {
   "cell_type": "code",
   "execution_count": 2,
   "metadata": {},
   "outputs": [
    {
     "name": "stdout",
     "output_type": "stream",
     "text": [
      "Unexpected exception formatting exception. Falling back to standard exception\n"
     ]
    },
    {
     "name": "stderr",
     "output_type": "stream",
     "text": [
      "Traceback (most recent call last):\n",
      "  File \"c:\\Users\\azhur\\AppData\\Local\\Programs\\Python\\Python310\\lib\\site-packages\\IPython\\core\\interactiveshell.py\", line 3398, in run_code\n",
      "    exec(code_obj, self.user_global_ns, self.user_ns)\n",
      "  File \"C:\\Users\\azhur\\AppData\\Local\\Temp\\ipykernel_24692\\3968849967.py\", line 6, in <cell line: 6>\n",
      "    for filename in os.listdir(PATH):\n",
      "FileNotFoundError: [WinError 3] Системе не удается найти указанный путь: 'set-lipstick-original/mask'\n",
      "\n",
      "During handling of the above exception, another exception occurred:\n",
      "\n",
      "Traceback (most recent call last):\n",
      "  File \"c:\\Users\\azhur\\AppData\\Local\\Programs\\Python\\Python310\\lib\\site-packages\\IPython\\core\\interactiveshell.py\", line 1993, in showtraceback\n",
      "    stb = self.InteractiveTB.structured_traceback(\n",
      "  File \"c:\\Users\\azhur\\AppData\\Local\\Programs\\Python\\Python310\\lib\\site-packages\\IPython\\core\\ultratb.py\", line 1118, in structured_traceback\n",
      "    return FormattedTB.structured_traceback(\n",
      "  File \"c:\\Users\\azhur\\AppData\\Local\\Programs\\Python\\Python310\\lib\\site-packages\\IPython\\core\\ultratb.py\", line 1012, in structured_traceback\n",
      "    return VerboseTB.structured_traceback(\n",
      "  File \"c:\\Users\\azhur\\AppData\\Local\\Programs\\Python\\Python310\\lib\\site-packages\\IPython\\core\\ultratb.py\", line 865, in structured_traceback\n",
      "    formatted_exception = self.format_exception_as_a_whole(etype, evalue, etb, number_of_lines_of_context,\n",
      "  File \"c:\\Users\\azhur\\AppData\\Local\\Programs\\Python\\Python310\\lib\\site-packages\\IPython\\core\\ultratb.py\", line 799, in format_exception_as_a_whole\n",
      "    self.get_records(etb, number_of_lines_of_context, tb_offset) if etb else []\n",
      "  File \"c:\\Users\\azhur\\AppData\\Local\\Programs\\Python\\Python310\\lib\\site-packages\\IPython\\core\\ultratb.py\", line 845, in get_records\n",
      "    style = stack_data.style_with_executing_node(style, \"bg:ansiyellow\")\n",
      "  File \"c:\\Users\\azhur\\AppData\\Local\\Programs\\Python\\Python310\\lib\\site-packages\\stack_data\\core.py\", line 424, in style_with_executing_node\n",
      "    class NewStyle(style):\n",
      "  File \"c:\\Users\\azhur\\AppData\\Local\\Programs\\Python\\Python310\\lib\\site-packages\\pygments\\style.py\", line 91, in __new__\n",
      "    ndef[4] = colorformat(styledef[3:])\n",
      "  File \"c:\\Users\\azhur\\AppData\\Local\\Programs\\Python\\Python310\\lib\\site-packages\\pygments\\style.py\", line 58, in colorformat\n",
      "    assert False, \"wrong color format %r\" % text\n",
      "AssertionError: wrong color format 'ansiyellow'\n"
     ]
    }
   ],
   "source": [
    "from PIL import Image\n",
    "\n",
    "PATH = 'set-lipstick-original/mask'\n",
    "Copy_to_path='set-lipstick-original/'\n",
    "\n",
    "for filename in os.listdir(PATH):\n",
    "    img = Image.open(os.path.join(PATH, filename)) # images are color images\n",
    "    arr = np.array(img, dtype=float)\n",
    "    arr[:,:,0] *= 0.2989\n",
    "    arr[:,:,1] *= 0.5870\n",
    "    arr[:,:,2] *= 0.1140\n",
    "    for j in range(len(arr)):\n",
    "        for i in range(len(arr[j])):\n",
    "            for k in range(len(arr[j][i])):\n",
    "\n",
    "                if arr[j][i][k]>0:\n",
    "                    arr[j][i][k] = 1\n",
    "                else:\n",
    "                    arr[j][i][k] = 0\n",
    "    img = Image.fromarray(arr.astype(np.uint8))\n",
    "    img.save(Copy_to_path+filename)"
   ]
  },
  {
   "cell_type": "code",
   "execution_count": 3,
   "metadata": {},
   "outputs": [
    {
     "name": "stdout",
     "output_type": "stream",
     "text": [
      "Unexpected exception formatting exception. Falling back to standard exception\n"
     ]
    },
    {
     "name": "stderr",
     "output_type": "stream",
     "text": [
      "Traceback (most recent call last):\n",
      "  File \"c:\\Users\\azhur\\AppData\\Local\\Programs\\Python\\Python310\\lib\\site-packages\\IPython\\core\\interactiveshell.py\", line 3398, in run_code\n",
      "    exec(code_obj, self.user_global_ns, self.user_ns)\n",
      "  File \"C:\\Users\\azhur\\AppData\\Local\\Temp\\ipykernel_24692\\1221180573.py\", line 1, in <cell line: 1>\n",
      "    cl = np.unique(plt.imread('set-lipstick-original/gray_mask/mask00000001.png')[:,:,0]*255)\n",
      "  File \"c:\\Users\\azhur\\AppData\\Local\\Programs\\Python\\Python310\\lib\\site-packages\\matplotlib\\pyplot.py\", line 2123, in imread\n",
      "    return matplotlib.image.imread(fname, format)\n",
      "  File \"c:\\Users\\azhur\\AppData\\Local\\Programs\\Python\\Python310\\lib\\site-packages\\matplotlib\\image.py\", line 1541, in imread\n",
      "    with img_open(fname) as image:\n",
      "  File \"c:\\Users\\azhur\\AppData\\Local\\Programs\\Python\\Python310\\lib\\site-packages\\PIL\\ImageFile.py\", line 104, in __init__\n",
      "    self.fp = open(fp, \"rb\")\n",
      "FileNotFoundError: [Errno 2] No such file or directory: 'set-lipstick-original/gray_mask/mask00000001.png'\n",
      "\n",
      "During handling of the above exception, another exception occurred:\n",
      "\n",
      "Traceback (most recent call last):\n",
      "  File \"c:\\Users\\azhur\\AppData\\Local\\Programs\\Python\\Python310\\lib\\site-packages\\IPython\\core\\interactiveshell.py\", line 1993, in showtraceback\n",
      "    stb = self.InteractiveTB.structured_traceback(\n",
      "  File \"c:\\Users\\azhur\\AppData\\Local\\Programs\\Python\\Python310\\lib\\site-packages\\IPython\\core\\ultratb.py\", line 1118, in structured_traceback\n",
      "    return FormattedTB.structured_traceback(\n",
      "  File \"c:\\Users\\azhur\\AppData\\Local\\Programs\\Python\\Python310\\lib\\site-packages\\IPython\\core\\ultratb.py\", line 1012, in structured_traceback\n",
      "    return VerboseTB.structured_traceback(\n",
      "  File \"c:\\Users\\azhur\\AppData\\Local\\Programs\\Python\\Python310\\lib\\site-packages\\IPython\\core\\ultratb.py\", line 865, in structured_traceback\n",
      "    formatted_exception = self.format_exception_as_a_whole(etype, evalue, etb, number_of_lines_of_context,\n",
      "  File \"c:\\Users\\azhur\\AppData\\Local\\Programs\\Python\\Python310\\lib\\site-packages\\IPython\\core\\ultratb.py\", line 799, in format_exception_as_a_whole\n",
      "    self.get_records(etb, number_of_lines_of_context, tb_offset) if etb else []\n",
      "  File \"c:\\Users\\azhur\\AppData\\Local\\Programs\\Python\\Python310\\lib\\site-packages\\IPython\\core\\ultratb.py\", line 845, in get_records\n",
      "    style = stack_data.style_with_executing_node(style, \"bg:ansiyellow\")\n",
      "  File \"c:\\Users\\azhur\\AppData\\Local\\Programs\\Python\\Python310\\lib\\site-packages\\stack_data\\core.py\", line 424, in style_with_executing_node\n",
      "    class NewStyle(style):\n",
      "  File \"c:\\Users\\azhur\\AppData\\Local\\Programs\\Python\\Python310\\lib\\site-packages\\pygments\\style.py\", line 91, in __new__\n",
      "    ndef[4] = colorformat(styledef[3:])\n",
      "  File \"c:\\Users\\azhur\\AppData\\Local\\Programs\\Python\\Python310\\lib\\site-packages\\pygments\\style.py\", line 58, in colorformat\n",
      "    assert False, \"wrong color format %r\" % text\n",
      "AssertionError: wrong color format 'ansiyellow'\n"
     ]
    }
   ],
   "source": [
    "cl = np.unique(plt.imread('set-lipstick-original/gray_mask/mask00000001.png')[:,:,0]*255)\n",
    "cl"
   ]
  },
  {
   "cell_type": "code",
   "execution_count": 4,
   "metadata": {},
   "outputs": [
    {
     "name": "stdout",
     "output_type": "stream",
     "text": [
      "Unexpected exception formatting exception. Falling back to standard exception\n"
     ]
    },
    {
     "name": "stderr",
     "output_type": "stream",
     "text": [
      "Traceback (most recent call last):\n",
      "  File \"c:\\Users\\azhur\\AppData\\Local\\Programs\\Python\\Python310\\lib\\site-packages\\IPython\\core\\interactiveshell.py\", line 3398, in run_code\n",
      "    exec(code_obj, self.user_global_ns, self.user_ns)\n",
      "  File \"C:\\Users\\azhur\\AppData\\Local\\Temp\\ipykernel_24692\\3837271518.py\", line 1, in <cell line: 1>\n",
      "    for i in range(len(cl)):\n",
      "NameError: name 'cl' is not defined\n",
      "\n",
      "During handling of the above exception, another exception occurred:\n",
      "\n",
      "Traceback (most recent call last):\n",
      "  File \"c:\\Users\\azhur\\AppData\\Local\\Programs\\Python\\Python310\\lib\\site-packages\\IPython\\core\\interactiveshell.py\", line 1993, in showtraceback\n",
      "    stb = self.InteractiveTB.structured_traceback(\n",
      "  File \"c:\\Users\\azhur\\AppData\\Local\\Programs\\Python\\Python310\\lib\\site-packages\\IPython\\core\\ultratb.py\", line 1118, in structured_traceback\n",
      "    return FormattedTB.structured_traceback(\n",
      "  File \"c:\\Users\\azhur\\AppData\\Local\\Programs\\Python\\Python310\\lib\\site-packages\\IPython\\core\\ultratb.py\", line 1012, in structured_traceback\n",
      "    return VerboseTB.structured_traceback(\n",
      "  File \"c:\\Users\\azhur\\AppData\\Local\\Programs\\Python\\Python310\\lib\\site-packages\\IPython\\core\\ultratb.py\", line 865, in structured_traceback\n",
      "    formatted_exception = self.format_exception_as_a_whole(etype, evalue, etb, number_of_lines_of_context,\n",
      "  File \"c:\\Users\\azhur\\AppData\\Local\\Programs\\Python\\Python310\\lib\\site-packages\\IPython\\core\\ultratb.py\", line 799, in format_exception_as_a_whole\n",
      "    self.get_records(etb, number_of_lines_of_context, tb_offset) if etb else []\n",
      "  File \"c:\\Users\\azhur\\AppData\\Local\\Programs\\Python\\Python310\\lib\\site-packages\\IPython\\core\\ultratb.py\", line 845, in get_records\n",
      "    style = stack_data.style_with_executing_node(style, \"bg:ansiyellow\")\n",
      "  File \"c:\\Users\\azhur\\AppData\\Local\\Programs\\Python\\Python310\\lib\\site-packages\\stack_data\\core.py\", line 424, in style_with_executing_node\n",
      "    class NewStyle(style):\n",
      "  File \"c:\\Users\\azhur\\AppData\\Local\\Programs\\Python\\Python310\\lib\\site-packages\\pygments\\style.py\", line 91, in __new__\n",
      "    ndef[4] = colorformat(styledef[3:])\n",
      "  File \"c:\\Users\\azhur\\AppData\\Local\\Programs\\Python\\Python310\\lib\\site-packages\\pygments\\style.py\", line 58, in colorformat\n",
      "    assert False, \"wrong color format %r\" % text\n",
      "AssertionError: wrong color format 'ansiyellow'\n"
     ]
    }
   ],
   "source": [
    "for i in range(len(cl)):\n",
    "    mask = plt.imread('set-lipstick-original/gray_mask/mask00000001.png')*255\n",
    "    mask = np.where(mask == i, 255, 0)\n",
    "    mask = mask[:,:,0]\n",
    "    print(np.unique(mask))\n",
    "    plt.title(f'class: {cl[i]}')\n",
    "    plt.imshow(mask)\n",
    "    plt.show()"
   ]
  },
  {
   "cell_type": "code",
   "execution_count": 5,
   "metadata": {},
   "outputs": [],
   "source": [
    "photo = []\n",
    "mask = []\n",
    "for root, dirs, files in os.walk('set-lipstick-original'):\n",
    "    for name in files:\n",
    "        f = os.path.join(root, name)\n",
    "        if '720p' in f:\n",
    "            photo.append(f)\n",
    "        elif 'gray_mask' in f:\n",
    "            mask.append(f)\n",
    "        else:\n",
    "            break\n",
    "            \n",
    "mask = sorted(mask)"
   ]
  },
  {
   "cell_type": "code",
   "execution_count": 6,
   "metadata": {},
   "outputs": [],
   "source": [
    "photo_name =[]\n",
    "for i in photo:\n",
    "    photo_name.append(i[-12:-4])"
   ]
  },
  {
   "cell_type": "code",
   "execution_count": 7,
   "metadata": {},
   "outputs": [],
   "source": [
    "photo_name =[]\n",
    "for i in photo:\n",
    "    photo_name.append(i[-12:-4])"
   ]
  },
  {
   "cell_type": "code",
   "execution_count": 8,
   "metadata": {},
   "outputs": [
    {
     "name": "stdout",
     "output_type": "stream",
     "text": [
      "Unexpected exception formatting exception. Falling back to standard exception\n"
     ]
    },
    {
     "name": "stderr",
     "output_type": "stream",
     "text": [
      "Traceback (most recent call last):\n",
      "  File \"c:\\Users\\azhur\\AppData\\Local\\Programs\\Python\\Python310\\lib\\site-packages\\IPython\\core\\interactiveshell.py\", line 3398, in run_code\n",
      "    exec(code_obj, self.user_global_ns, self.user_ns)\n",
      "  File \"C:\\Users\\azhur\\AppData\\Local\\Temp\\ipykernel_24692\\1841279366.py\", line 1, in <cell line: 1>\n",
      "    result = list(set(photo_name)-set(mask_name))\n",
      "NameError: name 'mask_name' is not defined\n",
      "\n",
      "During handling of the above exception, another exception occurred:\n",
      "\n",
      "Traceback (most recent call last):\n",
      "  File \"c:\\Users\\azhur\\AppData\\Local\\Programs\\Python\\Python310\\lib\\site-packages\\IPython\\core\\interactiveshell.py\", line 1993, in showtraceback\n",
      "    stb = self.InteractiveTB.structured_traceback(\n",
      "  File \"c:\\Users\\azhur\\AppData\\Local\\Programs\\Python\\Python310\\lib\\site-packages\\IPython\\core\\ultratb.py\", line 1118, in structured_traceback\n",
      "    return FormattedTB.structured_traceback(\n",
      "  File \"c:\\Users\\azhur\\AppData\\Local\\Programs\\Python\\Python310\\lib\\site-packages\\IPython\\core\\ultratb.py\", line 1012, in structured_traceback\n",
      "    return VerboseTB.structured_traceback(\n",
      "  File \"c:\\Users\\azhur\\AppData\\Local\\Programs\\Python\\Python310\\lib\\site-packages\\IPython\\core\\ultratb.py\", line 865, in structured_traceback\n",
      "    formatted_exception = self.format_exception_as_a_whole(etype, evalue, etb, number_of_lines_of_context,\n",
      "  File \"c:\\Users\\azhur\\AppData\\Local\\Programs\\Python\\Python310\\lib\\site-packages\\IPython\\core\\ultratb.py\", line 799, in format_exception_as_a_whole\n",
      "    self.get_records(etb, number_of_lines_of_context, tb_offset) if etb else []\n",
      "  File \"c:\\Users\\azhur\\AppData\\Local\\Programs\\Python\\Python310\\lib\\site-packages\\IPython\\core\\ultratb.py\", line 845, in get_records\n",
      "    style = stack_data.style_with_executing_node(style, \"bg:ansiyellow\")\n",
      "  File \"c:\\Users\\azhur\\AppData\\Local\\Programs\\Python\\Python310\\lib\\site-packages\\stack_data\\core.py\", line 424, in style_with_executing_node\n",
      "    class NewStyle(style):\n",
      "  File \"c:\\Users\\azhur\\AppData\\Local\\Programs\\Python\\Python310\\lib\\site-packages\\pygments\\style.py\", line 91, in __new__\n",
      "    ndef[4] = colorformat(styledef[3:])\n",
      "  File \"c:\\Users\\azhur\\AppData\\Local\\Programs\\Python\\Python310\\lib\\site-packages\\pygments\\style.py\", line 58, in colorformat\n",
      "    assert False, \"wrong color format %r\" % text\n",
      "AssertionError: wrong color format 'ansiyellow'\n"
     ]
    }
   ],
   "source": [
    "result = list(set(photo_name)-set(mask_name))"
   ]
  },
  {
   "cell_type": "code",
   "execution_count": 9,
   "metadata": {},
   "outputs": [],
   "source": [
    "photo_list = []\n",
    "\n",
    "for i in range(len(photo)):\n",
    "    \n",
    "    for j in result:\n",
    "        if j == photo[i][-12:-4]:\n",
    "            \n",
    "            photo_list.append(photo[i])\n",
    "photo = sorted(list(set(photo)-set(photo_list)))"
   ]
  },
  {
   "cell_type": "code",
   "execution_count": 10,
   "metadata": {},
   "outputs": [
    {
     "name": "stdout",
     "output_type": "stream",
     "text": [
      "Empty DataFrame\n",
      "Columns: [photo, mask]\n",
      "Index: []\n"
     ]
    }
   ],
   "source": [
    "df = pd.DataFrame({'photo': photo, 'mask': mask})\n",
    "# Отсортируем  датафрейм по значениям\n",
    "df.sort_values(by='mask',inplace=True)\n",
    "# Используем функцию,\n",
    "# лагодаря которой индексация значений \n",
    "# будет начинаться с 0.\n",
    "df.reset_index(drop=True, inplace=True)\n",
    "# Выведем первые ять значений нашего датафрейма\n",
    "print(df.head(5))"
   ]
  },
  {
   "cell_type": "code",
   "execution_count": 11,
   "metadata": {},
   "outputs": [
    {
     "data": {
      "text/html": [
       "<div>\n",
       "<style scoped>\n",
       "    .dataframe tbody tr th:only-of-type {\n",
       "        vertical-align: middle;\n",
       "    }\n",
       "\n",
       "    .dataframe tbody tr th {\n",
       "        vertical-align: top;\n",
       "    }\n",
       "\n",
       "    .dataframe thead th {\n",
       "        text-align: right;\n",
       "    }\n",
       "</style>\n",
       "<table border=\"1\" class=\"dataframe\">\n",
       "  <thead>\n",
       "    <tr style=\"text-align: right;\">\n",
       "      <th></th>\n",
       "      <th>photo</th>\n",
       "      <th>mask</th>\n",
       "    </tr>\n",
       "  </thead>\n",
       "  <tbody>\n",
       "  </tbody>\n",
       "</table>\n",
       "</div>"
      ],
      "text/plain": [
       "Empty DataFrame\n",
       "Columns: [photo, mask]\n",
       "Index: []"
      ]
     },
     "execution_count": 11,
     "metadata": {},
     "output_type": "execute_result"
    }
   ],
   "source": [
    "df.head()"
   ]
  },
  {
   "cell_type": "code",
   "execution_count": 12,
   "metadata": {},
   "outputs": [
    {
     "name": "stdout",
     "output_type": "stream",
     "text": [
      "Requirement already satisfied: torch in c:\\users\\azhur\\appdata\\local\\programs\\python\\python310\\lib\\site-packages (1.13.1)\n",
      "Requirement already satisfied: torchvision in c:\\users\\azhur\\appdata\\local\\programs\\python\\python310\\lib\\site-packages (0.14.1)\n",
      "Requirement already satisfied: typing-extensions in c:\\users\\azhur\\appdata\\local\\programs\\python\\python310\\lib\\site-packages (from torch) (4.1.1)\n",
      "Requirement already satisfied: requests in c:\\users\\azhur\\appdata\\local\\programs\\python\\python310\\lib\\site-packages (from torchvision) (2.27.1)\n",
      "Requirement already satisfied: numpy in c:\\users\\azhur\\appdata\\local\\programs\\python\\python310\\lib\\site-packages (from torchvision) (1.22.2)\n",
      "Requirement already satisfied: pillow!=8.3.*,>=5.3.0 in c:\\users\\azhur\\appdata\\local\\programs\\python\\python310\\lib\\site-packages (from torchvision) (9.3.0)\n",
      "Requirement already satisfied: charset-normalizer~=2.0.0 in c:\\users\\azhur\\appdata\\local\\programs\\python\\python310\\lib\\site-packages (from requests->torchvision) (2.0.12)\n",
      "Requirement already satisfied: urllib3<1.27,>=1.21.1 in c:\\users\\azhur\\appdata\\local\\programs\\python\\python310\\lib\\site-packages (from requests->torchvision) (1.26.8)\n",
      "Requirement already satisfied: idna<4,>=2.5 in c:\\users\\azhur\\appdata\\local\\programs\\python\\python310\\lib\\site-packages (from requests->torchvision) (3.3)\n",
      "Requirement already satisfied: certifi>=2017.4.17 in c:\\users\\azhur\\appdata\\local\\programs\\python\\python310\\lib\\site-packages (from requests->torchvision) (2021.10.8)\n"
     ]
    },
    {
     "name": "stderr",
     "output_type": "stream",
     "text": [
      "WARNING: You are using pip version 22.0.4; however, version 23.0.1 is available.\n",
      "You should consider upgrading via the 'C:\\Users\\azhur\\AppData\\Local\\Programs\\Python\\Python310\\python.exe -m pip install --upgrade pip' command.\n"
     ]
    }
   ],
   "source": [
    "!pip install torch torchvision"
   ]
  },
  {
   "cell_type": "code",
   "execution_count": 13,
   "metadata": {},
   "outputs": [],
   "source": [
    "from torch.utils.data import Dataset, DataLoader\n",
    "from PIL import Image\n",
    "import torch\n",
    "from torch.nn import functional as F"
   ]
  },
  {
   "cell_type": "code",
   "execution_count": 14,
   "metadata": {},
   "outputs": [],
   "source": [
    "class CustomDatasetFromImages(Dataset):\n",
    "    def __init__(self, data_info):\n",
    "        # Подаем наш подготовленный датафрейм\n",
    "        self.data_info = data_info\n",
    "        \n",
    "        # Разделяем датафрейм на rgb картинки \n",
    "        self.image_arr = self.data_info.iloc[:,0]\n",
    "        # и на сегментированные картинки\n",
    "        self.label_arr = self.data_info.iloc[:,1]\n",
    "        \n",
    "        # Количество пар картинка-сегментация\n",
    "        self.data_len = len(self.data_info.index)\n",
    "    def __getitem__(self, index):\n",
    "        # Читаем картинку и сразу же представляем ее в виде numpy-массива \n",
    "        # размера 600х800 float-значний\n",
    "        img = Image.open(self.image_arr[index])\n",
    "        img = img.resize((128,128))\n",
    "        img = np.asarray(img).astype('float')\n",
    "        # Нормализуем изображение в значениях [0,1]\n",
    "        img = torch.as_tensor(img)/255    \n",
    "        # unsqueeze - меняет размерность img c (600, 800, 3) -> (1, 600, 800, 3),\n",
    "        # т.е. оборачивает картинку в батч размером в одну картинку\n",
    "        img = img.permute(2,0,1)\n",
    "        # Мы используем функцию интерполяции для того,\n",
    "        # чтобы поменять рамерность картинки с 800х600 на 256х256\n",
    "        #img = F.interpolate(input=img, size=256, align_corners=False, mode='bicubic')\n",
    "        \n",
    "        \n",
    "        # итаем сегментированную картинку и сразу же представляем ее в виде numpy-массива \n",
    "        # размера 600х800 float-значний\n",
    "        lab = np.asarray(plt.imread(self.label_arr[index]))[:,:,0]*255\n",
    "        lab = torch.as_tensor(lab).unsqueeze(0)\n",
    "        \n",
    "        \n",
    "        \n",
    "        \n",
    "        # делаем ресайз картинки на 256х256\n",
    "        # Для этого используем функцию interpolate\n",
    "        ### Что бы ресайзить и высоту и ширину картинки, нужно перед interpolate\n",
    "        ### пороизвести unsqueeze над тензором, и squeeze после.\n",
    "        lab = lab.unsqueeze(0)\n",
    "        lab = F.interpolate(input=lab, size=128, mode='nearest')\n",
    "        \n",
    "        lab=lab.squeeze(0).squeeze(0)\n",
    "        \n",
    "        \n",
    "        \n",
    "        return (img.float(), lab.float())\n",
    "\n",
    "    def __len__(self):\n",
    "        return self.data_len"
   ]
  },
  {
   "cell_type": "code",
   "execution_count": 15,
   "metadata": {},
   "outputs": [
    {
     "name": "stdout",
     "output_type": "stream",
     "text": [
      "Unexpected exception formatting exception. Falling back to standard exception\n"
     ]
    },
    {
     "name": "stderr",
     "output_type": "stream",
     "text": [
      "Traceback (most recent call last):\n",
      "  File \"c:\\Users\\azhur\\AppData\\Local\\Programs\\Python\\Python310\\lib\\site-packages\\IPython\\core\\interactiveshell.py\", line 3398, in run_code\n",
      "    exec(code_obj, self.user_global_ns, self.user_ns)\n",
      "  File \"C:\\Users\\azhur\\AppData\\Local\\Temp\\ipykernel_24692\\4200140891.py\", line 4, in <cell line: 4>\n",
      "    X_train, X_test = train_test_split(df,test_size=0.3)\n",
      "  File \"c:\\Users\\azhur\\AppData\\Local\\Programs\\Python\\Python310\\lib\\site-packages\\sklearn\\model_selection\\_split.py\", line 2448, in train_test_split\n",
      "    n_train, n_test = _validate_shuffle_split(\n",
      "  File \"c:\\Users\\azhur\\AppData\\Local\\Programs\\Python\\Python310\\lib\\site-packages\\sklearn\\model_selection\\_split.py\", line 2126, in _validate_shuffle_split\n",
      "    raise ValueError(\n",
      "ValueError: With n_samples=0, test_size=0.3 and train_size=None, the resulting train set will be empty. Adjust any of the aforementioned parameters.\n",
      "\n",
      "During handling of the above exception, another exception occurred:\n",
      "\n",
      "Traceback (most recent call last):\n",
      "  File \"c:\\Users\\azhur\\AppData\\Local\\Programs\\Python\\Python310\\lib\\site-packages\\IPython\\core\\interactiveshell.py\", line 1993, in showtraceback\n",
      "    stb = self.InteractiveTB.structured_traceback(\n",
      "  File \"c:\\Users\\azhur\\AppData\\Local\\Programs\\Python\\Python310\\lib\\site-packages\\IPython\\core\\ultratb.py\", line 1118, in structured_traceback\n",
      "    return FormattedTB.structured_traceback(\n",
      "  File \"c:\\Users\\azhur\\AppData\\Local\\Programs\\Python\\Python310\\lib\\site-packages\\IPython\\core\\ultratb.py\", line 1012, in structured_traceback\n",
      "    return VerboseTB.structured_traceback(\n",
      "  File \"c:\\Users\\azhur\\AppData\\Local\\Programs\\Python\\Python310\\lib\\site-packages\\IPython\\core\\ultratb.py\", line 865, in structured_traceback\n",
      "    formatted_exception = self.format_exception_as_a_whole(etype, evalue, etb, number_of_lines_of_context,\n",
      "  File \"c:\\Users\\azhur\\AppData\\Local\\Programs\\Python\\Python310\\lib\\site-packages\\IPython\\core\\ultratb.py\", line 799, in format_exception_as_a_whole\n",
      "    self.get_records(etb, number_of_lines_of_context, tb_offset) if etb else []\n",
      "  File \"c:\\Users\\azhur\\AppData\\Local\\Programs\\Python\\Python310\\lib\\site-packages\\IPython\\core\\ultratb.py\", line 845, in get_records\n",
      "    style = stack_data.style_with_executing_node(style, \"bg:ansiyellow\")\n",
      "  File \"c:\\Users\\azhur\\AppData\\Local\\Programs\\Python\\Python310\\lib\\site-packages\\stack_data\\core.py\", line 424, in style_with_executing_node\n",
      "    class NewStyle(style):\n",
      "  File \"c:\\Users\\azhur\\AppData\\Local\\Programs\\Python\\Python310\\lib\\site-packages\\pygments\\style.py\", line 91, in __new__\n",
      "    ndef[4] = colorformat(styledef[3:])\n",
      "  File \"c:\\Users\\azhur\\AppData\\Local\\Programs\\Python\\Python310\\lib\\site-packages\\pygments\\style.py\", line 58, in colorformat\n",
      "    assert False, \"wrong color format %r\" % text\n",
      "AssertionError: wrong color format 'ansiyellow'\n"
     ]
    }
   ],
   "source": [
    "from sklearn.model_selection import train_test_split\n",
    "\n",
    "# 70 % в тренировочную выборку, 30 - в тестовую\n",
    "X_train, X_test = train_test_split(df,test_size=0.3)\n",
    "\n",
    "# Упорядочиваем индексацию\n",
    "X_train.reset_index(drop=True,inplace=True)\n",
    "X_test.reset_index(drop=True,inplace=True)\n",
    "\n",
    "# Оборачиваем каждую выборку в наш кастомный датасет\n",
    "train_data = CustomDatasetFromImages(X_train)\n",
    "test_data = CustomDatasetFromImages(X_test)"
   ]
  },
  {
   "cell_type": "code",
   "execution_count": 16,
   "metadata": {},
   "outputs": [
    {
     "name": "stdout",
     "output_type": "stream",
     "text": [
      "Unexpected exception formatting exception. Falling back to standard exception\n"
     ]
    },
    {
     "name": "stderr",
     "output_type": "stream",
     "text": [
      "Traceback (most recent call last):\n",
      "  File \"c:\\Users\\azhur\\AppData\\Local\\Programs\\Python\\Python310\\lib\\site-packages\\IPython\\core\\interactiveshell.py\", line 3398, in run_code\n",
      "    exec(code_obj, self.user_global_ns, self.user_ns)\n",
      "  File \"C:\\Users\\azhur\\AppData\\Local\\Temp\\ipykernel_24692\\1309835756.py\", line 1, in <cell line: 1>\n",
      "    train_data_loader = DataLoader(train_data,batch_size=8,shuffle=True)\n",
      "NameError: name 'train_data' is not defined\n",
      "\n",
      "During handling of the above exception, another exception occurred:\n",
      "\n",
      "Traceback (most recent call last):\n",
      "  File \"c:\\Users\\azhur\\AppData\\Local\\Programs\\Python\\Python310\\lib\\site-packages\\IPython\\core\\interactiveshell.py\", line 1993, in showtraceback\n",
      "    stb = self.InteractiveTB.structured_traceback(\n",
      "  File \"c:\\Users\\azhur\\AppData\\Local\\Programs\\Python\\Python310\\lib\\site-packages\\IPython\\core\\ultratb.py\", line 1118, in structured_traceback\n",
      "    return FormattedTB.structured_traceback(\n",
      "  File \"c:\\Users\\azhur\\AppData\\Local\\Programs\\Python\\Python310\\lib\\site-packages\\IPython\\core\\ultratb.py\", line 1012, in structured_traceback\n",
      "    return VerboseTB.structured_traceback(\n",
      "  File \"c:\\Users\\azhur\\AppData\\Local\\Programs\\Python\\Python310\\lib\\site-packages\\IPython\\core\\ultratb.py\", line 865, in structured_traceback\n",
      "    formatted_exception = self.format_exception_as_a_whole(etype, evalue, etb, number_of_lines_of_context,\n",
      "  File \"c:\\Users\\azhur\\AppData\\Local\\Programs\\Python\\Python310\\lib\\site-packages\\IPython\\core\\ultratb.py\", line 799, in format_exception_as_a_whole\n",
      "    self.get_records(etb, number_of_lines_of_context, tb_offset) if etb else []\n",
      "  File \"c:\\Users\\azhur\\AppData\\Local\\Programs\\Python\\Python310\\lib\\site-packages\\IPython\\core\\ultratb.py\", line 845, in get_records\n",
      "    style = stack_data.style_with_executing_node(style, \"bg:ansiyellow\")\n",
      "  File \"c:\\Users\\azhur\\AppData\\Local\\Programs\\Python\\Python310\\lib\\site-packages\\stack_data\\core.py\", line 424, in style_with_executing_node\n",
      "    class NewStyle(style):\n",
      "  File \"c:\\Users\\azhur\\AppData\\Local\\Programs\\Python\\Python310\\lib\\site-packages\\pygments\\style.py\", line 91, in __new__\n",
      "    ndef[4] = colorformat(styledef[3:])\n",
      "  File \"c:\\Users\\azhur\\AppData\\Local\\Programs\\Python\\Python310\\lib\\site-packages\\pygments\\style.py\", line 58, in colorformat\n",
      "    assert False, \"wrong color format %r\" % text\n",
      "AssertionError: wrong color format 'ansiyellow'\n"
     ]
    }
   ],
   "source": [
    "train_data_loader = DataLoader(train_data,batch_size=8,shuffle=True)\n",
    "test_data_loader = DataLoader(test_data,batch_size=4,shuffle=False)"
   ]
  },
  {
   "cell_type": "code",
   "execution_count": 17,
   "metadata": {},
   "outputs": [
    {
     "name": "stdout",
     "output_type": "stream",
     "text": [
      "Unexpected exception formatting exception. Falling back to standard exception\n"
     ]
    },
    {
     "name": "stderr",
     "output_type": "stream",
     "text": [
      "Traceback (most recent call last):\n",
      "  File \"c:\\Users\\azhur\\AppData\\Local\\Programs\\Python\\Python310\\lib\\site-packages\\IPython\\core\\interactiveshell.py\", line 3398, in run_code\n",
      "    exec(code_obj, self.user_global_ns, self.user_ns)\n",
      "  File \"C:\\Users\\azhur\\AppData\\Local\\Temp\\ipykernel_24692\\2567732743.py\", line 1, in <cell line: 1>\n",
      "    len(train_data_loader)\n",
      "NameError: name 'train_data_loader' is not defined\n",
      "\n",
      "During handling of the above exception, another exception occurred:\n",
      "\n",
      "Traceback (most recent call last):\n",
      "  File \"c:\\Users\\azhur\\AppData\\Local\\Programs\\Python\\Python310\\lib\\site-packages\\IPython\\core\\interactiveshell.py\", line 1993, in showtraceback\n",
      "    stb = self.InteractiveTB.structured_traceback(\n",
      "  File \"c:\\Users\\azhur\\AppData\\Local\\Programs\\Python\\Python310\\lib\\site-packages\\IPython\\core\\ultratb.py\", line 1118, in structured_traceback\n",
      "    return FormattedTB.structured_traceback(\n",
      "  File \"c:\\Users\\azhur\\AppData\\Local\\Programs\\Python\\Python310\\lib\\site-packages\\IPython\\core\\ultratb.py\", line 1012, in structured_traceback\n",
      "    return VerboseTB.structured_traceback(\n",
      "  File \"c:\\Users\\azhur\\AppData\\Local\\Programs\\Python\\Python310\\lib\\site-packages\\IPython\\core\\ultratb.py\", line 865, in structured_traceback\n",
      "    formatted_exception = self.format_exception_as_a_whole(etype, evalue, etb, number_of_lines_of_context,\n",
      "  File \"c:\\Users\\azhur\\AppData\\Local\\Programs\\Python\\Python310\\lib\\site-packages\\IPython\\core\\ultratb.py\", line 799, in format_exception_as_a_whole\n",
      "    self.get_records(etb, number_of_lines_of_context, tb_offset) if etb else []\n",
      "  File \"c:\\Users\\azhur\\AppData\\Local\\Programs\\Python\\Python310\\lib\\site-packages\\IPython\\core\\ultratb.py\", line 845, in get_records\n",
      "    style = stack_data.style_with_executing_node(style, \"bg:ansiyellow\")\n",
      "  File \"c:\\Users\\azhur\\AppData\\Local\\Programs\\Python\\Python310\\lib\\site-packages\\stack_data\\core.py\", line 424, in style_with_executing_node\n",
      "    class NewStyle(style):\n",
      "  File \"c:\\Users\\azhur\\AppData\\Local\\Programs\\Python\\Python310\\lib\\site-packages\\pygments\\style.py\", line 91, in __new__\n",
      "    ndef[4] = colorformat(styledef[3:])\n",
      "  File \"c:\\Users\\azhur\\AppData\\Local\\Programs\\Python\\Python310\\lib\\site-packages\\pygments\\style.py\", line 58, in colorformat\n",
      "    assert False, \"wrong color format %r\" % text\n",
      "AssertionError: wrong color format 'ansiyellow'\n"
     ]
    }
   ],
   "source": [
    "len(train_data_loader)"
   ]
  },
  {
   "cell_type": "code",
   "execution_count": 18,
   "metadata": {},
   "outputs": [
    {
     "name": "stdout",
     "output_type": "stream",
     "text": [
      "Requirement already satisfied: segmentation_models_pytorch in c:\\users\\azhur\\appdata\\local\\programs\\python\\python310\\lib\\site-packages (0.3.2)\n",
      "Requirement already satisfied: efficientnet-pytorch==0.7.1 in c:\\users\\azhur\\appdata\\local\\programs\\python\\python310\\lib\\site-packages (from segmentation_models_pytorch) (0.7.1)\n",
      "Requirement already satisfied: pretrainedmodels==0.7.4 in c:\\users\\azhur\\appdata\\local\\programs\\python\\python310\\lib\\site-packages (from segmentation_models_pytorch) (0.7.4)\n",
      "Requirement already satisfied: torchvision>=0.5.0 in c:\\users\\azhur\\appdata\\local\\programs\\python\\python310\\lib\\site-packages (from segmentation_models_pytorch) (0.14.1)\n",
      "Requirement already satisfied: pillow in c:\\users\\azhur\\appdata\\local\\programs\\python\\python310\\lib\\site-packages (from segmentation_models_pytorch) (9.3.0)\n",
      "Requirement already satisfied: timm==0.6.12 in c:\\users\\azhur\\appdata\\local\\programs\\python\\python310\\lib\\site-packages (from segmentation_models_pytorch) (0.6.12)\n",
      "Requirement already satisfied: tqdm in c:\\users\\azhur\\appdata\\local\\programs\\python\\python310\\lib\\site-packages (from segmentation_models_pytorch) (4.62.3)\n",
      "Requirement already satisfied: torch in c:\\users\\azhur\\appdata\\local\\programs\\python\\python310\\lib\\site-packages (from efficientnet-pytorch==0.7.1->segmentation_models_pytorch) (1.13.1)\n",
      "Requirement already satisfied: munch in c:\\users\\azhur\\appdata\\local\\programs\\python\\python310\\lib\\site-packages (from pretrainedmodels==0.7.4->segmentation_models_pytorch) (2.5.0)\n",
      "Requirement already satisfied: huggingface-hub in c:\\users\\azhur\\appdata\\local\\programs\\python\\python310\\lib\\site-packages (from timm==0.6.12->segmentation_models_pytorch) (0.12.1)\n",
      "Requirement already satisfied: pyyaml in c:\\users\\azhur\\appdata\\local\\programs\\python\\python310\\lib\\site-packages (from timm==0.6.12->segmentation_models_pytorch) (6.0)\n",
      "Requirement already satisfied: typing-extensions in c:\\users\\azhur\\appdata\\local\\programs\\python\\python310\\lib\\site-packages (from torchvision>=0.5.0->segmentation_models_pytorch) (4.1.1)\n",
      "Requirement already satisfied: requests in c:\\users\\azhur\\appdata\\local\\programs\\python\\python310\\lib\\site-packages (from torchvision>=0.5.0->segmentation_models_pytorch) (2.27.1)\n",
      "Requirement already satisfied: numpy in c:\\users\\azhur\\appdata\\local\\programs\\python\\python310\\lib\\site-packages (from torchvision>=0.5.0->segmentation_models_pytorch) (1.22.2)\n",
      "Requirement already satisfied: colorama in c:\\users\\azhur\\appdata\\local\\programs\\python\\python310\\lib\\site-packages (from tqdm->segmentation_models_pytorch) (0.4.4)\n",
      "Requirement already satisfied: packaging>=20.9 in c:\\users\\azhur\\appdata\\local\\programs\\python\\python310\\lib\\site-packages (from huggingface-hub->timm==0.6.12->segmentation_models_pytorch) (21.3)\n",
      "Requirement already satisfied: filelock in c:\\users\\azhur\\appdata\\local\\programs\\python\\python310\\lib\\site-packages (from huggingface-hub->timm==0.6.12->segmentation_models_pytorch) (3.6.0)\n",
      "Requirement already satisfied: six in c:\\users\\azhur\\appdata\\local\\programs\\python\\python310\\lib\\site-packages (from munch->pretrainedmodels==0.7.4->segmentation_models_pytorch) (1.16.0)\n",
      "Requirement already satisfied: urllib3<1.27,>=1.21.1 in c:\\users\\azhur\\appdata\\local\\programs\\python\\python310\\lib\\site-packages (from requests->torchvision>=0.5.0->segmentation_models_pytorch) (1.26.8)\n",
      "Requirement already satisfied: idna<4,>=2.5 in c:\\users\\azhur\\appdata\\local\\programs\\python\\python310\\lib\\site-packages (from requests->torchvision>=0.5.0->segmentation_models_pytorch) (3.3)\n",
      "Requirement already satisfied: charset-normalizer~=2.0.0 in c:\\users\\azhur\\appdata\\local\\programs\\python\\python310\\lib\\site-packages (from requests->torchvision>=0.5.0->segmentation_models_pytorch) (2.0.12)\n",
      "Requirement already satisfied: certifi>=2017.4.17 in c:\\users\\azhur\\appdata\\local\\programs\\python\\python310\\lib\\site-packages (from requests->torchvision>=0.5.0->segmentation_models_pytorch) (2021.10.8)\n",
      "Requirement already satisfied: pyparsing!=3.0.5,>=2.0.2 in c:\\users\\azhur\\appdata\\local\\programs\\python\\python310\\lib\\site-packages (from packaging>=20.9->huggingface-hub->timm==0.6.12->segmentation_models_pytorch) (3.0.9)\n"
     ]
    },
    {
     "name": "stderr",
     "output_type": "stream",
     "text": [
      "WARNING: You are using pip version 22.0.4; however, version 23.0.1 is available.\n",
      "You should consider upgrading via the 'C:\\Users\\azhur\\AppData\\Local\\Programs\\Python\\Python310\\python.exe -m pip install --upgrade pip' command.\n"
     ]
    }
   ],
   "source": [
    "!pip install segmentation_models_pytorch"
   ]
  },
  {
   "cell_type": "code",
   "execution_count": 19,
   "metadata": {},
   "outputs": [],
   "source": [
    "learning_rate = 0.02\n",
    "epochs = 3"
   ]
  },
  {
   "cell_type": "code",
   "execution_count": 20,
   "metadata": {},
   "outputs": [
    {
     "name": "stderr",
     "output_type": "stream",
     "text": [
      "C:\\Users\\azhur\\AppData\\Local\\Temp\\ipykernel_24692\\276761193.py:1: UserWarning: Failed to initialize NumPy: module compiled against API version 0x10 but this version of numpy is 0xf (Triggered internally at ..\\torch\\csrc\\utils\\tensor_numpy.cpp:77.)\n",
      "  device = torch.device('cuda:0' if torch.cuda.is_available() else 'cpu')\n"
     ]
    }
   ],
   "source": [
    "device = torch.device('cuda:0' if torch.cuda.is_available() else 'cpu')"
   ]
  },
  {
   "cell_type": "code",
   "execution_count": 21,
   "metadata": {},
   "outputs": [],
   "source": [
    "def dice_loss(output, target, weights=None, ignore_index=None):\n",
    "    \"\"\"\n",
    "    output : NxCxHxW Variable\n",
    "    target :  NxHxW LongTensor\n",
    "    weights : C FloatTensor\n",
    "    ignore_index : int index to ignore from loss\n",
    "    \"\"\"\n",
    "    eps = 0.0001\n",
    "\n",
    "    output = output.float().exp()\n",
    "    target = target.type(torch.int64)\n",
    "    encoded_target = output.detach() * 0\n",
    "    if ignore_index is not None:\n",
    "        mask = target == ignore_index\n",
    "        target = target.clone()\n",
    "        target[mask] = 0\n",
    "        encoded_target.scatter_(1, target.unsqueeze(1), 1)\n",
    "        mask = mask.unsqueeze(1).expand_as(encoded_target)\n",
    "        encoded_target[mask] = 0\n",
    "    else:\n",
    "        encoded_target.scatter_(1, target.unsqueeze(1), 1)\n",
    "\n",
    "    if weights is None:\n",
    "        weights = 1\n",
    "\n",
    "    intersection = output * encoded_target\n",
    "    numerator = 2 * intersection.sum(0).sum(1).sum(1)\n",
    "    denominator = output + encoded_target\n",
    "\n",
    "    if ignore_index is not None:\n",
    "        denominator[mask] = 0\n",
    "    denominator = denominator.sum(0).sum(1).sum(1) + eps\n",
    "    loss_per_channel = weights * (1 - (numerator / denominator))\n",
    "\n",
    "    return loss_per_channel.sum() / output.size(1)"
   ]
  },
  {
   "cell_type": "code",
   "execution_count": 22,
   "metadata": {},
   "outputs": [
    {
     "name": "stdout",
     "output_type": "stream",
     "text": [
      "Unexpected exception formatting exception. Falling back to standard exception\n"
     ]
    },
    {
     "name": "stderr",
     "output_type": "stream",
     "text": [
      "Traceback (most recent call last):\n",
      "  File \"c:\\Users\\azhur\\AppData\\Local\\Programs\\Python\\Python310\\lib\\site-packages\\IPython\\core\\interactiveshell.py\", line 3398, in run_code\n",
      "    exec(code_obj, self.user_global_ns, self.user_ns)\n",
      "  File \"C:\\Users\\azhur\\AppData\\Local\\Temp\\ipykernel_24692\\1078084318.py\", line 6, in <cell line: 6>\n",
      "    segmodel = smp.Unet('resnet34', classes=len(cl), activation='softmax').to(device)\n",
      "NameError: name 'cl' is not defined\n",
      "\n",
      "During handling of the above exception, another exception occurred:\n",
      "\n",
      "Traceback (most recent call last):\n",
      "  File \"c:\\Users\\azhur\\AppData\\Local\\Programs\\Python\\Python310\\lib\\site-packages\\IPython\\core\\interactiveshell.py\", line 1993, in showtraceback\n",
      "    stb = self.InteractiveTB.structured_traceback(\n",
      "  File \"c:\\Users\\azhur\\AppData\\Local\\Programs\\Python\\Python310\\lib\\site-packages\\IPython\\core\\ultratb.py\", line 1118, in structured_traceback\n",
      "    return FormattedTB.structured_traceback(\n",
      "  File \"c:\\Users\\azhur\\AppData\\Local\\Programs\\Python\\Python310\\lib\\site-packages\\IPython\\core\\ultratb.py\", line 1012, in structured_traceback\n",
      "    return VerboseTB.structured_traceback(\n",
      "  File \"c:\\Users\\azhur\\AppData\\Local\\Programs\\Python\\Python310\\lib\\site-packages\\IPython\\core\\ultratb.py\", line 865, in structured_traceback\n",
      "    formatted_exception = self.format_exception_as_a_whole(etype, evalue, etb, number_of_lines_of_context,\n",
      "  File \"c:\\Users\\azhur\\AppData\\Local\\Programs\\Python\\Python310\\lib\\site-packages\\IPython\\core\\ultratb.py\", line 799, in format_exception_as_a_whole\n",
      "    self.get_records(etb, number_of_lines_of_context, tb_offset) if etb else []\n",
      "  File \"c:\\Users\\azhur\\AppData\\Local\\Programs\\Python\\Python310\\lib\\site-packages\\IPython\\core\\ultratb.py\", line 845, in get_records\n",
      "    style = stack_data.style_with_executing_node(style, \"bg:ansiyellow\")\n",
      "  File \"c:\\Users\\azhur\\AppData\\Local\\Programs\\Python\\Python310\\lib\\site-packages\\stack_data\\core.py\", line 424, in style_with_executing_node\n",
      "    class NewStyle(style):\n",
      "  File \"c:\\Users\\azhur\\AppData\\Local\\Programs\\Python\\Python310\\lib\\site-packages\\pygments\\style.py\", line 91, in __new__\n",
      "    ndef[4] = colorformat(styledef[3:])\n",
      "  File \"c:\\Users\\azhur\\AppData\\Local\\Programs\\Python\\Python310\\lib\\site-packages\\pygments\\style.py\", line 58, in colorformat\n",
      "    assert False, \"wrong color format %r\" % text\n",
      "AssertionError: wrong color format 'ansiyellow'\n"
     ]
    }
   ],
   "source": [
    "import segmentation_models_pytorch as smp\n",
    "import time\n",
    "\n",
    "# создание модели\n",
    "segmodel = smp.Unet()\n",
    "segmodel = smp.Unet('resnet34', classes=len(cl), activation='softmax').to(device)\n",
    "optimizer = torch.optim.Adam(segmodel.parameters())\n",
    "epoch_losses = []\n",
    "\n",
    "for epoch in range(2):  # loop over the dataset multiple times\n",
    "    epoch_loss = []\n",
    "    time1 = time.time()\n",
    "    for batch_idx, (data, labels) in enumerate(train_data_loader):\n",
    "        # get the inputs; data is a list of [inputs, labels]\n",
    "#         inputs, labels = data\n",
    "#         inputs = inputs.to(device)\n",
    "#         labels = labels.to(device)\n",
    "\n",
    "        data, labels = data.to(device), labels.to(device) \n",
    "        # zero the parameter gradients\n",
    "        optimizer.zero_grad()\n",
    "\n",
    "        # forward + backward + optimize\n",
    "        outputs = segmodel(data)\n",
    "        loss = dice_loss(outputs,labels)\n",
    "        loss.backward()\n",
    "        optimizer.step()\n",
    "\n",
    "        # print statistics\n",
    "        epoch_loss.append(loss.item())\n",
    "        if batch_idx%200==0:\n",
    "            print(f'batch index : {batch_idx} | loss : {loss.item()}')\n",
    "\n",
    "    print(f'Epoch {epoch+1}, loss: ',np.mean(epoch_loss))\n",
    "    time2 = time.time()\n",
    "    print(f'Spend time for 1 epoch: {time2-time1} sec')\n",
    "    \n",
    "    epoch_losses.append(epoch_loss)"
   ]
  },
  {
   "cell_type": "code",
   "execution_count": 23,
   "metadata": {},
   "outputs": [],
   "source": [
    "def get_orig(image):\n",
    "    #image = images[0,:,:,:]\n",
    "    image = image.permute(1, 2, 0)\n",
    "    image = image.numpy()\n",
    "    image = np.clip(image, 0, 1)\n",
    "    return image"
   ]
  },
  {
   "cell_type": "code",
   "execution_count": 24,
   "metadata": {},
   "outputs": [
    {
     "name": "stdout",
     "output_type": "stream",
     "text": [
      "Unexpected exception formatting exception. Falling back to standard exception\n"
     ]
    },
    {
     "name": "stderr",
     "output_type": "stream",
     "text": [
      "Traceback (most recent call last):\n",
      "  File \"c:\\Users\\azhur\\AppData\\Local\\Programs\\Python\\Python310\\lib\\site-packages\\IPython\\core\\interactiveshell.py\", line 3398, in run_code\n",
      "    exec(code_obj, self.user_global_ns, self.user_ns)\n",
      "  File \"C:\\Users\\azhur\\AppData\\Local\\Temp\\ipykernel_24692\\975540453.py\", line 1, in <cell line: 1>\n",
      "    for i, data in enumerate(test_data_loader):\n",
      "NameError: name 'test_data_loader' is not defined\n",
      "\n",
      "During handling of the above exception, another exception occurred:\n",
      "\n",
      "Traceback (most recent call last):\n",
      "  File \"c:\\Users\\azhur\\AppData\\Local\\Programs\\Python\\Python310\\lib\\site-packages\\IPython\\core\\interactiveshell.py\", line 1993, in showtraceback\n",
      "    stb = self.InteractiveTB.structured_traceback(\n",
      "  File \"c:\\Users\\azhur\\AppData\\Local\\Programs\\Python\\Python310\\lib\\site-packages\\IPython\\core\\ultratb.py\", line 1118, in structured_traceback\n",
      "    return FormattedTB.structured_traceback(\n",
      "  File \"c:\\Users\\azhur\\AppData\\Local\\Programs\\Python\\Python310\\lib\\site-packages\\IPython\\core\\ultratb.py\", line 1012, in structured_traceback\n",
      "    return VerboseTB.structured_traceback(\n",
      "  File \"c:\\Users\\azhur\\AppData\\Local\\Programs\\Python\\Python310\\lib\\site-packages\\IPython\\core\\ultratb.py\", line 865, in structured_traceback\n",
      "    formatted_exception = self.format_exception_as_a_whole(etype, evalue, etb, number_of_lines_of_context,\n",
      "  File \"c:\\Users\\azhur\\AppData\\Local\\Programs\\Python\\Python310\\lib\\site-packages\\IPython\\core\\ultratb.py\", line 799, in format_exception_as_a_whole\n",
      "    self.get_records(etb, number_of_lines_of_context, tb_offset) if etb else []\n",
      "  File \"c:\\Users\\azhur\\AppData\\Local\\Programs\\Python\\Python310\\lib\\site-packages\\IPython\\core\\ultratb.py\", line 845, in get_records\n",
      "    style = stack_data.style_with_executing_node(style, \"bg:ansiyellow\")\n",
      "  File \"c:\\Users\\azhur\\AppData\\Local\\Programs\\Python\\Python310\\lib\\site-packages\\stack_data\\core.py\", line 424, in style_with_executing_node\n",
      "    class NewStyle(style):\n",
      "  File \"c:\\Users\\azhur\\AppData\\Local\\Programs\\Python\\Python310\\lib\\site-packages\\pygments\\style.py\", line 91, in __new__\n",
      "    ndef[4] = colorformat(styledef[3:])\n",
      "  File \"c:\\Users\\azhur\\AppData\\Local\\Programs\\Python\\Python310\\lib\\site-packages\\pygments\\style.py\", line 58, in colorformat\n",
      "    assert False, \"wrong color format %r\" % text\n",
      "AssertionError: wrong color format 'ansiyellow'\n"
     ]
    }
   ],
   "source": [
    "for i, data in enumerate(test_data_loader):\n",
    "    images, labels = data\n",
    "    images = images.to(device)\n",
    "    labels = labels.to(device)\n",
    "    outputs = segmodel(images)\n",
    "    f, axarr = plt.subplots(1,3)\n",
    "\n",
    "    for j in range(0,5):\n",
    "        axarr[0].imshow(outputs.squeeze().detach().cpu().numpy()[j,:,:])\n",
    "        axarr[0].set_title('Guessed labels')\n",
    "\n",
    "        axarr[1].imshow(labels.detach().cpu().numpy()[j,:,:])\n",
    "        axarr[1].set_title('Ground truth labels')\n",
    "\n",
    "        original = get_orig(images[j].cpu())\n",
    "        axarr[2].imshow(original)\n",
    "        axarr[2].set_title('Original Images')\n",
    "        plt.show()\n",
    "        plt.gcf().show()\n",
    "        if i>5:\n",
    "            break"
   ]
  },
  {
   "cell_type": "code",
   "execution_count": 25,
   "metadata": {},
   "outputs": [
    {
     "name": "stdout",
     "output_type": "stream",
     "text": [
      "Unexpected exception formatting exception. Falling back to standard exception\n"
     ]
    },
    {
     "name": "stderr",
     "output_type": "stream",
     "text": [
      "Traceback (most recent call last):\n",
      "  File \"c:\\Users\\azhur\\AppData\\Local\\Programs\\Python\\Python310\\lib\\site-packages\\IPython\\core\\interactiveshell.py\", line 3398, in run_code\n",
      "    exec(code_obj, self.user_global_ns, self.user_ns)\n",
      "  File \"C:\\Users\\azhur\\AppData\\Local\\Temp\\ipykernel_24692\\2496319358.py\", line 1, in <cell line: 1>\n",
      "    for i, data in enumerate(test_data_loader):\n",
      "NameError: name 'test_data_loader' is not defined\n",
      "\n",
      "During handling of the above exception, another exception occurred:\n",
      "\n",
      "Traceback (most recent call last):\n",
      "  File \"c:\\Users\\azhur\\AppData\\Local\\Programs\\Python\\Python310\\lib\\site-packages\\IPython\\core\\interactiveshell.py\", line 1993, in showtraceback\n",
      "    stb = self.InteractiveTB.structured_traceback(\n",
      "  File \"c:\\Users\\azhur\\AppData\\Local\\Programs\\Python\\Python310\\lib\\site-packages\\IPython\\core\\ultratb.py\", line 1118, in structured_traceback\n",
      "    return FormattedTB.structured_traceback(\n",
      "  File \"c:\\Users\\azhur\\AppData\\Local\\Programs\\Python\\Python310\\lib\\site-packages\\IPython\\core\\ultratb.py\", line 1012, in structured_traceback\n",
      "    return VerboseTB.structured_traceback(\n",
      "  File \"c:\\Users\\azhur\\AppData\\Local\\Programs\\Python\\Python310\\lib\\site-packages\\IPython\\core\\ultratb.py\", line 865, in structured_traceback\n",
      "    formatted_exception = self.format_exception_as_a_whole(etype, evalue, etb, number_of_lines_of_context,\n",
      "  File \"c:\\Users\\azhur\\AppData\\Local\\Programs\\Python\\Python310\\lib\\site-packages\\IPython\\core\\ultratb.py\", line 799, in format_exception_as_a_whole\n",
      "    self.get_records(etb, number_of_lines_of_context, tb_offset) if etb else []\n",
      "  File \"c:\\Users\\azhur\\AppData\\Local\\Programs\\Python\\Python310\\lib\\site-packages\\IPython\\core\\ultratb.py\", line 845, in get_records\n",
      "    style = stack_data.style_with_executing_node(style, \"bg:ansiyellow\")\n",
      "  File \"c:\\Users\\azhur\\AppData\\Local\\Programs\\Python\\Python310\\lib\\site-packages\\stack_data\\core.py\", line 424, in style_with_executing_node\n",
      "    class NewStyle(style):\n",
      "  File \"c:\\Users\\azhur\\AppData\\Local\\Programs\\Python\\Python310\\lib\\site-packages\\pygments\\style.py\", line 91, in __new__\n",
      "    ndef[4] = colorformat(styledef[3:])\n",
      "  File \"c:\\Users\\azhur\\AppData\\Local\\Programs\\Python\\Python310\\lib\\site-packages\\pygments\\style.py\", line 58, in colorformat\n",
      "    assert False, \"wrong color format %r\" % text\n",
      "AssertionError: wrong color format 'ansiyellow'\n"
     ]
    }
   ],
   "source": [
    "for i, data in enumerate(test_data_loader):\n",
    "    images, labels = data\n",
    "    images = images.to(device)\n",
    "    labels = labels.to(device)\n",
    "    outputs = segmodel(images)\n",
    "    f, axarr = plt.subplots(1,3)\n",
    "\n",
    "    for j in range(0,1):\n",
    "        axarr[0].imshow(outputs.squeeze().detach().cpu().numpy()[j,1,:,:])\n",
    "        axarr[0].set_title('Guessed labels')\n",
    "\n",
    "        axarr[1].imshow(labels.detach().cpu().numpy()[j,:,:])\n",
    "        axarr[1].set_title('Ground truth labels')\n",
    "\n",
    "        original = get_orig(images[j].cpu())\n",
    "        axarr[2].imshow(original)\n",
    "        axarr[2].set_title('Original Images')\n",
    "        plt.show()\n",
    "        plt.gcf().show()\n",
    "        if i>1:\n",
    "            break"
   ]
  },
  {
   "cell_type": "code",
   "execution_count": null,
   "metadata": {},
   "outputs": [],
   "source": []
  }
 ],
 "metadata": {
  "kernelspec": {
   "display_name": "Python 3",
   "language": "python",
   "name": "python3"
  },
  "language_info": {
   "codemirror_mode": {
    "name": "ipython",
    "version": 3
   },
   "file_extension": ".py",
   "mimetype": "text/x-python",
   "name": "python",
   "nbconvert_exporter": "python",
   "pygments_lexer": "ipython3",
   "version": "3.10.2"
  },
  "orig_nbformat": 4,
  "vscode": {
   "interpreter": {
    "hash": "e0374bbc5b6e8830e1c7992d2b29930f5be5fce85401b20117ea791a8a6544f0"
   }
  }
 },
 "nbformat": 4,
 "nbformat_minor": 2
}
